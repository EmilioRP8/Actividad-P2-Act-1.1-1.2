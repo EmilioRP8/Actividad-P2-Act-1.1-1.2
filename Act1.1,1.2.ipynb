{
 "cells": [
  {
   "cell_type": "code",
   "execution_count": 3,
   "metadata": {},
   "outputs": [
    {
     "ename": "ModuleNotFoundError",
     "evalue": "No module named 'erp'",
     "output_type": "error",
     "traceback": [
      "\u001b[0;31m---------------------------------------------------------------------------\u001b[0m",
      "\u001b[0;31mModuleNotFoundError\u001b[0m                       Traceback (most recent call last)",
      "Cell \u001b[0;32mIn[3], line 1\u001b[0m\n\u001b[0;32m----> 1\u001b[0m \u001b[38;5;28;01mimport\u001b[39;00m\u001b[38;5;250m \u001b[39m\u001b[38;5;21;01merp\u001b[39;00m\u001b[38;5;250m \u001b[39m\u001b[38;5;28;01mas\u001b[39;00m\u001b[38;5;250m \u001b[39m\u001b[38;5;21;01merp\u001b[39;00m\n",
      "\u001b[0;31mModuleNotFoundError\u001b[0m: No module named 'erp'"
     ]
    }
   ],
   "source": [
    "import erp as erp"
   ]
  },
  {
   "cell_type": "markdown",
   "metadata": {},
   "source": [
    "# Actividad 1.1"
   ]
  },
  {
   "cell_type": "markdown",
   "metadata": {},
   "source": [
    "## Aplicar métodos para reemplazar valores nulos del dataframe"
   ]
  },
  {
   "cell_type": "code",
   "execution_count": null,
   "metadata": {},
   "outputs": [],
   "source": [
    "df = erp.cargar_dataset(\"Victoria BC.csv\")\n",
    "df = erp.eliminar_unnamed(df)\n",
    "df"
   ]
  },
  {
   "cell_type": "markdown",
   "metadata": {},
   "source": [
    "## Aplicar método (Rango Intercuartílico) para eliminar Outliers del dataframe"
   ]
  },
  {
   "cell_type": "code",
   "execution_count": null,
   "metadata": {},
   "outputs": [],
   "source": [
    "df = erp.sustituir_atipicos(df)\n",
    "df\n"
   ]
  },
  {
   "cell_type": "markdown",
   "metadata": {},
   "source": [
    "## Análisis univariado"
   ]
  },
  {
   "cell_type": "code",
   "execution_count": null,
   "metadata": {},
   "outputs": [],
   "source": [
    "dfr = erp.analisis_univariado_categorico(df)\n",
    "dfr"
   ]
  },
  {
   "cell_type": "markdown",
   "metadata": {},
   "source": [
    "## Categorizar variables"
   ]
  },
  {
   "cell_type": "code",
   "execution_count": null,
   "metadata": {},
   "outputs": [],
   "source": [
    "\n",
    "va_categorizar =  [\n",
    "    \"host_acceptance_rate\", \"host_total_listings_count\", \n",
    "    \"accommodates\", \"bathrooms_text\", \"maximum_nights_avg_ntm\", \n",
    "    \"availability_365\", \"number_of_reviews\", \"review_scores_value\", \"reviews_per_month\"\n",
    "]\n",
    "\n"
   ]
  },
  {
   "cell_type": "markdown",
   "metadata": {},
   "source": [
    "## Limpieza de columnas de simbolos ($, %, etc.)"
   ]
  },
  {
   "cell_type": "code",
   "execution_count": null,
   "metadata": {},
   "outputs": [],
   "source": [
    "df = erp.limpiar_columnas(df)"
   ]
  },
  {
   "cell_type": "markdown",
   "metadata": {},
   "source": [
    "## Categorizar aplicando la regla de Sturges"
   ]
  },
  {
   "cell_type": "code",
   "execution_count": null,
   "metadata": {},
   "outputs": [],
   "source": [
    "df = erp.categorizar_sturges(df, va_categorizar)"
   ]
  },
  {
   "cell_type": "markdown",
   "metadata": {},
   "source": [
    "# Actividad 1.2"
   ]
  },
  {
   "cell_type": "code",
   "execution_count": null,
   "metadata": {},
   "outputs": [],
   "source": [
    "pip install funpymodeling"
   ]
  },
  {
   "cell_type": "code",
   "execution_count": null,
   "metadata": {},
   "outputs": [],
   "source": [
    "import pandas as pd\n",
    "import numpy as np\n",
    "import matplotlib.pyplot as plt\n",
    "from funpymodeling.exploratory import freq_tbl\n",
    "import seaborn as sns"
   ]
  },
  {
   "cell_type": "code",
   "execution_count": null,
   "metadata": {},
   "outputs": [],
   "source": [
    "#Cargamos archivo en un nuevo dataset\n",
    "df = erp.cargar_dataset('DataAnalytics2.xlsx')"
   ]
  },
  {
   "cell_type": "code",
   "execution_count": null,
   "metadata": {},
   "outputs": [],
   "source": [
    "#Verificamos valores nulos del documento\n",
    "erp.identificacion_nulos(df)"
   ]
  },
  {
   "cell_type": "code",
   "execution_count": null,
   "metadata": {},
   "outputs": [],
   "source": [
    "#Convertir a string y limpiar valores (elimina espacios)\n",
    "df['presionó botón correcto'] = df['presionó botón correcto'].astype(str).str.strip()\n",
    "\n",
    "#Reemplazar valores usando replace() con inplace=True\n",
    "df['presionó botón correcto'].replace({'1.0':'Correcto'}, regex=False, inplace=True)\n",
    "df['presionó botón correcto'].replace({'0.0':'Incorrecto'}, regex=False, inplace=True)"
   ]
  },
  {
   "cell_type": "code",
   "execution_count": null,
   "metadata": {},
   "outputs": [],
   "source": [
    "#Convertir a string y limpiar valores\n",
    "df['auto push'] = df['auto push'].astype(str).str.strip()\n",
    "\n",
    "#Reemplazar valores usando replace() con inplace=True\n",
    "df['auto push'].replace({'1.0':'Si'}, regex=False, inplace=True)\n",
    "df['auto push'].replace({'0.0':'No'}, regex=False, inplace=True)"
   ]
  },
  {
   "cell_type": "code",
   "execution_count": null,
   "metadata": {},
   "outputs": [],
   "source": [
    "#Sustituimos valores nulos de la columna presionó botón correcto con un string en concreto \"nulo\", ya que no hay ningún valor con ese nombre en la base de datos entonces no afectará.\n",
    "df['presionó botón correcto'] = df['presionó botón correcto'].fillna(\"Nulo\").replace('', \"Nulo\").replace('nan', \"Nulo\")"
   ]
  },
  {
   "cell_type": "code",
   "execution_count": null,
   "metadata": {},
   "outputs": [],
   "source": [
    "#Sustituimos valores nulos de la columna tiempo de interacción con un 999, esto debido a que el valor máximo es 165.19, entonces el 999 no afectará el análisis.\n",
    "df['tiempo de interacción'] = df['tiempo de interacción'].fillna(999)"
   ]
  },
  {
   "cell_type": "code",
   "execution_count": null,
   "metadata": {},
   "outputs": [],
   "source": [
    "#Sustituimos valores nulos de la columna mini juego con un string en concreto \"nulo\", ya que no hay ningún valor con ese nombre en la base de datos entonces no afectará.\n",
    "df['mini juego'] = df['mini juego'].fillna(\"Nulo\")"
   ]
  },
  {
   "cell_type": "code",
   "execution_count": null,
   "metadata": {},
   "outputs": [],
   "source": [
    "#Sustituimos valores nulos de la columna número de interacción por lección con un 0, debido a que el valor mínimo en esta columna es 1, entonces esto no afectará el análisis.\n",
    "df['número de interacción por lección'] = df['número de interacción por lección'].fillna(0)"
   ]
  },
  {
   "cell_type": "code",
   "execution_count": null,
   "metadata": {},
   "outputs": [],
   "source": [
    "#Sustituimos valores nulos de la columna color presionado con un string en concreto \"nulo\", ya que no hay ningún valor con ese nombre en la base de datos entonces no afectará.\n",
    "df['color presionado'] = df['color presionado'].fillna(\"Nulo\")"
   ]
  },
  {
   "cell_type": "code",
   "execution_count": null,
   "metadata": {},
   "outputs": [],
   "source": [
    "#Sustituimos valores nulos de la columna auto push correcto con un string en concreto \"nulo\", ya que no hay ningún valor con ese nombre en la base de datos entonces no afectará.\n",
    "df['auto push'] = df['auto push'].fillna(\"Nulo\").replace('', \"Nulo\").replace('nan', \"Nulo\")"
   ]
  },
  {
   "cell_type": "code",
   "execution_count": null,
   "metadata": {},
   "outputs": [],
   "source": [
    "#Sustituimos valores nulos de la columna tiempo de lección con un 999, esto debido a que el valor máximo es 781.33, entonces el 999 no afectará el análisis.\n",
    "df['tiempo de lección'] = df['tiempo de lección'].fillna(999)"
   ]
  },
  {
   "cell_type": "code",
   "execution_count": null,
   "metadata": {},
   "outputs": [],
   "source": [
    "#Sustituimos valores nulos de la columna tiempo de sesión con un 9999, esto debido a que el valor máximo es 2144.45, entonces el 9999 no afectará el análisis.\n",
    "df['tiempo de sesión'] = df['tiempo de sesión'].fillna(9999)"
   ]
  },
  {
   "cell_type": "code",
   "execution_count": null,
   "metadata": {},
   "outputs": [],
   "source": [
    "#Verificamos que el DataFrame no tenga valores nulos.\n",
    "erp.identificacion_nulos(df)"
   ]
  },
  {
   "cell_type": "code",
   "execution_count": null,
   "metadata": {},
   "outputs": [],
   "source": [
    "#Obtengo un análisis univariado de las variables categóricas\n",
    "freq_tbl(df)"
   ]
  },
  {
   "cell_type": "code",
   "execution_count": null,
   "metadata": {},
   "outputs": [],
   "source": [
    "#Le damos el formato a los datos de la columna para que empiecen con mayúscula.\n",
    "df['administrador'] = df['administrador'].str.title()"
   ]
  },
  {
   "cell_type": "code",
   "execution_count": null,
   "metadata": {},
   "outputs": [],
   "source": [
    "#Obtengo un análisis univariado de una variable categórica en específico\n",
    "tabla_administrador= freq_tbl(df['administrador'])\n",
    "tabla_administrador"
   ]
  },
  {
   "cell_type": "code",
   "execution_count": null,
   "metadata": {},
   "outputs": [],
   "source": [
    "#Elimino las columnas \"percentage\" y \"cumulative_perc\" para trabajar con las frecuencias\n",
    "tabla_administrador2 = tabla_administrador.drop(['percentage','cumulative_perc'], axis=1)\n",
    "tabla_administrador2"
   ]
  },
  {
   "cell_type": "code",
   "execution_count": null,
   "metadata": {},
   "outputs": [],
   "source": [
    "#Obtengo un filtro de los valores más reelevantes de la variables categórica seleccionada\n",
    "#Dejamos todas las frecuencias porque necesitamos ver a todos los administradores\n",
    "Filtro_administrador= tabla_administrador2[tabla_administrador2['frequency']>1]\n",
    "Filtro_administrador"
   ]
  },
  {
   "cell_type": "code",
   "execution_count": null,
   "metadata": {},
   "outputs": [],
   "source": [
    "#Ajusto el indice de mi dataframe\n",
    "Filtro_index_administrador= Filtro_administrador.set_index('administrador')\n",
    "Filtro_index_administrador"
   ]
  },
  {
   "cell_type": "code",
   "execution_count": null,
   "metadata": {},
   "outputs": [],
   "source": [
    "#Realizamos grafico de pastel del dataframe filtrado\n",
    "Filtro_index_administrador[\"frequency\"].plot(kind='pie', figsize=(20,10), shadow=True, autopct=\"%0.1f %%\")\n",
    "plt.title('Administrador')\n",
    "plt.ylabel('Frecuencia')\n",
    "plt.show()"
   ]
  },
  {
   "cell_type": "code",
   "execution_count": null,
   "metadata": {},
   "outputs": [],
   "source": [
    "#Le damos el formato a los datos de la columna para que empiecen con mayúscula.\n",
    "df['usuario'] = df['usuario'].str.title()"
   ]
  },
  {
   "cell_type": "code",
   "execution_count": null,
   "metadata": {},
   "outputs": [],
   "source": [
    "tabla_usuario = freq_tbl(df['usuario'])\n",
    "\n",
    "tabla_usuario2 = tabla_usuario.drop(['percentage','cumulative_perc'], axis=1)\n",
    "\n",
    "filtro_usuario = tabla_usuario2[tabla_usuario2['frequency']>1]\n",
    "\n",
    "Filtro_index_usuario = filtro_usuario.set_index('usuario')\n",
    "\n",
    "#Realizamos grafico de barras del dataframe filtrado\n",
    "Filtro_index_usuario.plot(kind = 'bar', width=0.8, figsize=(15,9), color= \"cornflowerblue\")\n",
    "plt.title('Usuario')\n",
    "plt.xlabel('Nombre')\n",
    "plt.xticks(rotation=50)\n",
    "plt.ylabel('Frecuencia')\n",
    "plt.show()"
   ]
  },
  {
   "cell_type": "code",
   "execution_count": null,
   "metadata": {},
   "outputs": [],
   "source": [
    "tabla_boton_correcto = freq_tbl(df['presionó botón correcto'])\n",
    "tabla_boton_correcto"
   ]
  },
  {
   "cell_type": "code",
   "execution_count": null,
   "metadata": {},
   "outputs": [],
   "source": [
    "tabla_boton_correcto2 = tabla_boton_correcto.drop(['percentage','cumulative_perc'], axis=1)\n",
    "tabla_boton_correcto2"
   ]
  },
  {
   "cell_type": "code",
   "execution_count": null,
   "metadata": {},
   "outputs": [],
   "source": [
    "#Usamos el diferente a para \"eliminar\" la fila de nulos que no necesitamos\n",
    "tabla_boton_correcto2 = tabla_boton_correcto2[tabla_boton_correcto2['presionó botón correcto'] != 'Nulo']\n",
    "tabla_boton_correcto2"
   ]
  },
  {
   "cell_type": "code",
   "execution_count": null,
   "metadata": {},
   "outputs": [],
   "source": [
    "Filtro_index_boton_correcto = tabla_boton_correcto2.set_index('presionó botón correcto')\n",
    "Filtro_index_boton_correcto"
   ]
  },
  {
   "cell_type": "code",
   "execution_count": null,
   "metadata": {},
   "outputs": [],
   "source": [
    "#Usamos seaborn para el gráfico con colores por categoría\n",
    "ax = sns.barplot(\n",
    "    x=Filtro_index_boton_correcto.index,\n",
    "    y=Filtro_index_boton_correcto['frequency'],\n",
    "    palette=['red', 'green']\n",
    ")\n",
    "\n",
    "#Añadir etiquetas a las barras\n",
    "for p in ax.patches:\n",
    "    ax.text(\n",
    "        p.get_x() + p.get_width()/2.,  #Posición horizontal\n",
    "        p.get_height() + 1,            #Posición vertical (ajusta según altura)\n",
    "        str(int(p.get_height())),      #Valor numérico sin decimales (int)\n",
    "        ha=\"center\",                   #Alineación horizontal\n",
    "        va=\"bottom\"                    #Alineación vertical\n",
    "    )\n",
    "\n",
    "plt.title('Presionó el botón correcto')\n",
    "plt.xlabel('Botón presionado')\n",
    "plt.ylabel('Frecuencia')\n",
    "plt.show()"
   ]
  },
  {
   "cell_type": "code",
   "execution_count": null,
   "metadata": {},
   "outputs": [],
   "source": [
    "tabla_minijuego = freq_tbl(df['mini juego'])\n",
    "tabla_minijuego"
   ]
  },
  {
   "cell_type": "code",
   "execution_count": null,
   "metadata": {},
   "outputs": [],
   "source": [
    "tabla_minijuego2 = tabla_minijuego.drop(['percentage','cumulative_perc'], axis=1)\n",
    "tabla_minijuego2"
   ]
  },
  {
   "cell_type": "code",
   "execution_count": null,
   "metadata": {},
   "outputs": [],
   "source": [
    "#Usamos el diferente a para \"eliminar\" la fila de nulos que no necesitamos\n",
    "tabla_minijuego2 = tabla_minijuego2[tabla_minijuego2['mini juego'] != 'Nulo']\n",
    "tabla_minijuego2"
   ]
  },
  {
   "cell_type": "code",
   "execution_count": null,
   "metadata": {},
   "outputs": [],
   "source": [
    "#Agrupamos las filas de MiniGame_0, MiniGame_1, MiniGame_2, MiniGame_3 en una sola fila llamada 'Otros'\n",
    "otros_minijuego = tabla_minijuego2[tabla_minijuego2['mini juego'].isin(['MiniGame_0', 'MiniGame_1', 'MiniGame_2', 'MiniGame_3'])]['frequency'].sum()\n",
    "\n",
    "#Filtramos las filas que no son MiniGame_0, MiniGame_1, MiniGame_2, MiniGame_3\n",
    "tabla_minijuego2 = tabla_minijuego2[~tabla_minijuego2['mini juego'].isin(['MiniGame_0', 'MiniGame_1', 'MiniGame_2', 'MiniGame_3'])]\n",
    "\n",
    "#Añadimos la nueva fila 'Otros'\n",
    "tabla_minijuego2 = pd.concat([tabla_minijuego2, pd.DataFrame({'mini juego': ['Otros'], 'frequency': [otros_minijuego]})], ignore_index=True)\n",
    "\n",
    "tabla_minijuego2"
   ]
  },
  {
   "cell_type": "code",
   "execution_count": null,
   "metadata": {},
   "outputs": [],
   "source": [
    "filtro_minijuego = tabla_minijuego2[tabla_minijuego2['frequency']>1]\n",
    "filtro_minijuego"
   ]
  },
  {
   "cell_type": "code",
   "execution_count": null,
   "metadata": {},
   "outputs": [],
   "source": [
    "Filtro_index_minijuego = filtro_minijuego.set_index('mini juego')\n",
    "Filtro_index_minijuego"
   ]
  },
  {
   "cell_type": "code",
   "execution_count": null,
   "metadata": {},
   "outputs": [],
   "source": [
    "#Realizamos grafico de pie del dataframe filtrado\n",
    "Filtro_index_minijuego[\"frequency\"].plot(kind='pie', figsize=(20,10), shadow=True, autopct=\"%0.1f %%\")\n",
    "plt.title('Mini Juego')\n",
    "plt.ylabel('Frecuencia')\n",
    "plt.show()"
   ]
  },
  {
   "cell_type": "code",
   "execution_count": null,
   "metadata": {},
   "outputs": [],
   "source": [
    "tabla_color_presionado = freq_tbl(df['color presionado'])\n",
    "tabla_color_presionado"
   ]
  },
  {
   "cell_type": "code",
   "execution_count": null,
   "metadata": {},
   "outputs": [],
   "source": [
    "tabla_color_presionado2 = tabla_color_presionado.drop(['percentage','cumulative_perc'], axis=1)\n",
    "tabla_color_presionado2"
   ]
  },
  {
   "cell_type": "code",
   "execution_count": null,
   "metadata": {},
   "outputs": [],
   "source": [
    "#Usamos el diferente a para \"eliminar\" la fila de nulos que no necesitamos\n",
    "tabla_color_presionado2 = tabla_color_presionado2[tabla_color_presionado2['color presionado'] != 'Nulo']\n",
    "tabla_color_presionado2"
   ]
  },
  {
   "cell_type": "code",
   "execution_count": null,
   "metadata": {},
   "outputs": [],
   "source": [
    "Filtro_index_color_presionado = tabla_color_presionado2.set_index('color presionado')\n",
    "Filtro_index_color_presionado"
   ]
  },
  {
   "cell_type": "code",
   "execution_count": null,
   "metadata": {},
   "outputs": [],
   "source": [
    "#Usamos seaborn para el gráfico con colores por categoría\n",
    "ax = sns.barplot(\n",
    "    x=Filtro_index_color_presionado.index,\n",
    "    y=Filtro_index_color_presionado['frequency'],\n",
    "    palette=['#B57EDC', '#8BC34A', '#F7DC6F', '#4A90E2', '#FF6B6B']\n",
    ")\n",
    "\n",
    "#Añadir etiquetas a las barras\n",
    "for p in ax.patches:\n",
    "    ax.text(\n",
    "        p.get_x() + p.get_width()/2.,  #Posición horizontal\n",
    "        p.get_height() + 1,            #Posición vertical (ajusta según altura)\n",
    "        str(int(p.get_height())),      #Valor numérico sin decimales (int)\n",
    "        ha=\"center\",                   #Alineación horizontal\n",
    "        va=\"bottom\"                    #Alineación vertical\n",
    "    )\n",
    "\n",
    "plt.title('Color Presionado')\n",
    "plt.xlabel('Color del Botón')\n",
    "plt.ylabel('Frecuencia')\n",
    "plt.show()"
   ]
  },
  {
   "cell_type": "code",
   "execution_count": null,
   "metadata": {},
   "outputs": [],
   "source": [
    "tabla_dificultad = freq_tbl(df['dificultad'])\n",
    "tabla_dificultad"
   ]
  },
  {
   "cell_type": "code",
   "execution_count": null,
   "metadata": {},
   "outputs": [],
   "source": [
    "tabla_dificultad2 = tabla_dificultad.drop(['percentage','cumulative_perc'], axis=1)\n",
    "tabla_dificultad2"
   ]
  },
  {
   "cell_type": "code",
   "execution_count": null,
   "metadata": {},
   "outputs": [],
   "source": [
    "Filtro_index_dificultad = tabla_dificultad2.set_index('dificultad')\n",
    "Filtro_index_dificultad"
   ]
  },
  {
   "cell_type": "code",
   "execution_count": null,
   "metadata": {},
   "outputs": [],
   "source": [
    "Filtro_index_dificultad.plot(kind='area', figsize=(12,6),alpha = 0.6, color='teal')\n",
    "plt.title('Nivel de Dificultad')\n",
    "plt.xlabel('Dificultad')\n",
    "plt.xticks(rotation=45)\n",
    "plt.ylabel('Frecuencia')\n",
    "plt.show()"
   ]
  },
  {
   "cell_type": "code",
   "execution_count": null,
   "metadata": {},
   "outputs": [],
   "source": [
    "tabla_juego = freq_tbl(df['juego'])\n",
    "tabla_juego"
   ]
  },
  {
   "cell_type": "code",
   "execution_count": null,
   "metadata": {},
   "outputs": [],
   "source": [
    "tabla_juego2 = tabla_juego.drop(['percentage','cumulative_perc'], axis=1)\n",
    "tabla_juego2"
   ]
  },
  {
   "cell_type": "code",
   "execution_count": null,
   "metadata": {},
   "outputs": [],
   "source": [
    "Filtro_index_juego = tabla_juego2.set_index('juego')\n",
    "Filtro_index_juego"
   ]
  },
  {
   "cell_type": "code",
   "execution_count": null,
   "metadata": {},
   "outputs": [],
   "source": [
    "#Realizamos grafico de pie del dataframe filtrado\n",
    "Filtro_index_juego[\"frequency\"].plot(kind='pie', figsize=(15,6), shadow=True, autopct=\"%0.1f %%\")\n",
    "plt.title('Juego')\n",
    "plt.ylabel('Frecuencia')\n",
    "plt.show()"
   ]
  },
  {
   "cell_type": "code",
   "execution_count": null,
   "metadata": {},
   "outputs": [],
   "source": [
    "tabla_auto_push = freq_tbl(df['auto push'])\n",
    "tabla_auto_push"
   ]
  },
  {
   "cell_type": "code",
   "execution_count": null,
   "metadata": {},
   "outputs": [],
   "source": [
    "tabla_auto_push2 = tabla_auto_push.drop(['percentage','cumulative_perc'], axis=1)\n",
    "tabla_auto_push2"
   ]
  },
  {
   "cell_type": "code",
   "execution_count": null,
   "metadata": {},
   "outputs": [],
   "source": [
    "#Usamos el diferente a para \"eliminar\" la fila de nulos que no necesitamos\n",
    "tabla_auto_push2 = tabla_auto_push2[tabla_auto_push2['auto push'] != 'Nulo']\n",
    "tabla_auto_push2"
   ]
  },
  {
   "cell_type": "code",
   "execution_count": null,
   "metadata": {},
   "outputs": [],
   "source": [
    "Filtro_index_auto_push = tabla_auto_push2.set_index('auto push')\n",
    "Filtro_index_auto_push"
   ]
  },
  {
   "cell_type": "code",
   "execution_count": null,
   "metadata": {},
   "outputs": [],
   "source": [
    "#Usamos seaborn para el gráfico con colores por categoría\n",
    "ax = sns.barplot(\n",
    "    x=Filtro_index_auto_push.index,\n",
    "    y=Filtro_index_auto_push['frequency'],\n",
    "    palette=['red', 'green']\n",
    ")\n",
    "\n",
    "#Añadir etiquetas a las barras\n",
    "for p in ax.patches:\n",
    "    ax.text(\n",
    "        p.get_x() + p.get_width()/2.,  #Posición horizontal\n",
    "        p.get_height() + 1,            #Posición vertical (ajusta según altura)\n",
    "        str(int(p.get_height())),      #Valor numérico sin decimales (int)\n",
    "        ha=\"center\",                   #Alineación horizontal\n",
    "        va=\"bottom\"                    #Alineación vertical\n",
    "    )\n",
    "\n",
    "plt.title('Se usó Auto Push')\n",
    "plt.xlabel('Auto Push')\n",
    "plt.ylabel('Frecuencia')\n",
    "plt.show()"
   ]
  },
  {
   "cell_type": "code",
   "execution_count": null,
   "metadata": {},
   "outputs": [],
   "source": [
    "#Filtramos las filas donde ninguna columna tenga el valor 999 ya que son nuestros valores nulos\n",
    "df_tiempo_interaccion = df[df['tiempo de interacción'] != 999]\n",
    "\n",
    "#Calculamos el numero total de la población \"n\"\n",
    "df_tiempo_interaccion['tiempo de interacción'].info()\n",
    "n=len(df_tiempo_interaccion) #número de entradas"
   ]
  },
  {
   "cell_type": "code",
   "execution_count": null,
   "metadata": {},
   "outputs": [],
   "source": [
    "#Obtenemos el limite superior y el límite inferior de la columna objetivo\n",
    "Max=df_tiempo_interaccion['tiempo de interacción'].max()\n",
    "Min=df_tiempo_interaccion['tiempo de interacción'].min()\n",
    "Limites= [Min, Max]\n",
    "Limites"
   ]
  },
  {
   "cell_type": "code",
   "execution_count": null,
   "metadata": {},
   "outputs": [],
   "source": [
    "#Calculamos el rango R\n",
    "R=Max-Min\n",
    "R"
   ]
  },
  {
   "cell_type": "code",
   "execution_count": null,
   "metadata": {},
   "outputs": [],
   "source": [
    "#Calculamos el número de Intervalos de Clase \"ni\", aplicando la regla de Sturges\n",
    "ni= 1+3.32*np.log10(n)\n",
    "ni"
   ]
  },
  {
   "cell_type": "code",
   "execution_count": null,
   "metadata": {},
   "outputs": [],
   "source": [
    "#Calculamos el Ancho del Intervalo \"i\"\n",
    "i=R/ni\n",
    "i"
   ]
  },
  {
   "cell_type": "code",
   "execution_count": null,
   "metadata": {},
   "outputs": [],
   "source": [
    "#Categorización de variables\n",
    "#Declaramos 2 intervalos (menores de 100) y (mayores de 100)\n",
    "#Ajustamos los limites para que todos los valores sean incluidos en los intervalos\n",
    "intervalos = np.linspace(Min, Max, num=15) #minimo, maximo, numero de clases + 1 (las calses son los intervalos)\n",
    "intervalos"
   ]
  },
  {
   "cell_type": "code",
   "execution_count": null,
   "metadata": {},
   "outputs": [],
   "source": [
    "# Crear categorías (ajusta las etiquetas según intervalos)\n",
    "categorias = [f\"{intervalos[i]:.2f} - {intervalos[i+1]:.2f}\" \n",
    "    for i in range(len(intervalos)-1)] #-1 para ajustar índices\n",
    "categorias"
   ]
  },
  {
   "cell_type": "code",
   "execution_count": null,
   "metadata": {},
   "outputs": [],
   "source": [
    "#Finalmente creamos las categorías en la columna numérica\n",
    "#Usamos el include_lowest para evitar que se eliminen datos\n",
    "df_tiempo_interaccion['tiempo de interacción']=pd.cut(x= df_tiempo_interaccion['tiempo de interacción'], bins=intervalos, labels= categorias, include_lowest=True )\n",
    "df_tiempo_interaccion['tiempo de interacción']"
   ]
  },
  {
   "cell_type": "code",
   "execution_count": null,
   "metadata": {},
   "outputs": [],
   "source": [
    "tabla_tiempo_interaccion = freq_tbl(df_tiempo_interaccion['tiempo de interacción'])\n",
    "tabla_tiempo_interaccion"
   ]
  },
  {
   "cell_type": "code",
   "execution_count": null,
   "metadata": {},
   "outputs": [],
   "source": [
    "tabla_tiempo_interaccion2 = tabla_tiempo_interaccion.drop(['percentage','cumulative_perc'], axis=1)\n",
    "tabla_tiempo_interaccion2"
   ]
  },
  {
   "cell_type": "code",
   "execution_count": null,
   "metadata": {},
   "outputs": [],
   "source": [
    "filtro_tiempo_interaccion = tabla_tiempo_interaccion2[tabla_tiempo_interaccion2['frequency']>=1]\n",
    "filtro_tiempo_interaccion"
   ]
  },
  {
   "cell_type": "code",
   "execution_count": null,
   "metadata": {},
   "outputs": [],
   "source": [
    "Filtro_index_tiempo_interaccion = filtro_tiempo_interaccion.set_index('tiempo de interacción')\n",
    "Filtro_index_tiempo_interaccion"
   ]
  },
  {
   "cell_type": "code",
   "execution_count": null,
   "metadata": {},
   "outputs": [],
   "source": [
    "#Convertir el índice a categoría con orden explícito\n",
    "Filtro_index_tiempo_interaccion.index = pd.Categorical(\n",
    "    Filtro_index_tiempo_interaccion.index, #Datos a convertir\n",
    "    categories=categorias, #Definir el orden numérico de los intervalos, es nuestra lista de categorias\n",
    "    ordered=True\n",
    ")\n",
    "\n",
    "#Ordenar el DataFrame según el índice categórico\n",
    "Filtro_index_tiempo_interaccion = Filtro_index_tiempo_interaccion.sort_index()\n",
    "\n",
    "#Crear el gráfico\n",
    "Filtro_index_tiempo_interaccion.plot(kind='area', figsize=(20, 10), alpha=0.6, color='teal')\n",
    "\n",
    "#Asegurar de que todas las categorías aparezcan en el eje X\n",
    "plt.xticks(\n",
    "    ticks=range(len(Filtro_index_tiempo_interaccion.index)), #Posiciones\n",
    "    labels=Filtro_index_tiempo_interaccion.index, #Etiquetas\n",
    "    rotation=45, #Rotación para legibilidad\n",
    ")\n",
    "\n",
    "plt.title('Distribución del tiempo de interacción')\n",
    "plt.xlabel('Intervalos de Tiempo en segundos')\n",
    "plt.ylabel('Frecuencia')\n",
    "plt.tight_layout()\n",
    "plt.show()"
   ]
  },
  {
   "cell_type": "code",
   "execution_count": null,
   "metadata": {},
   "outputs": [],
   "source": [
    "#Comparar suma de frecuencias con el total de entradas\n",
    "#Lo uso para verificar que se están usando todas las entradas en los intervalos\n",
    "print(df_tiempo_interaccion.shape[0])  #Total de entradas\n",
    "print(tabla_tiempo_interaccion['frequency'].sum())  #Suma de frecuencias"
   ]
  },
  {
   "cell_type": "code",
   "execution_count": null,
   "metadata": {},
   "outputs": [],
   "source": [
    "#Filtramos las filas donde ninguna columna tenga el valor 0 ya que son nuestros valores nulos\n",
    "df_numero_interaccion = df[df['número de interacción por lección'] != 0]\n",
    "\n",
    "#Calculamos el numero total de la población \"n\"\n",
    "df_numero_interaccion['número de interacción por lección'].info()\n",
    "n=len(df_numero_interaccion) #número de entradas"
   ]
  },
  {
   "cell_type": "code",
   "execution_count": null,
   "metadata": {},
   "outputs": [],
   "source": [
    "#Obtenemos el limite superior y el límite inferior de la columna objetivo\n",
    "Max=df_numero_interaccion['número de interacción por lección'].max()\n",
    "Min=df_numero_interaccion['número de interacción por lección'].min()\n",
    "Limites= [Min, Max]\n",
    "Limites"
   ]
  },
  {
   "cell_type": "code",
   "execution_count": null,
   "metadata": {},
   "outputs": [],
   "source": [
    "#Calculamos el rango R\n",
    "R=Max-Min\n",
    "R"
   ]
  },
  {
   "cell_type": "code",
   "execution_count": null,
   "metadata": {},
   "outputs": [],
   "source": [
    "#Calculamos el número de Intervalos de Clase \"ni\", aplicando la regla de Sturges\n",
    "ni= 1+3.32*np.log10(n)\n",
    "ni"
   ]
  },
  {
   "cell_type": "code",
   "execution_count": null,
   "metadata": {},
   "outputs": [],
   "source": [
    "#Calculamos el Ancho del Intervalo \"i\"\n",
    "i=R/ni\n",
    "i"
   ]
  },
  {
   "cell_type": "code",
   "execution_count": null,
   "metadata": {},
   "outputs": [],
   "source": [
    "#Categorización de variables\n",
    "#Declaramos 2 intervalos (menores de 100) y (mayores de 100)\n",
    "#Ajustamos los limites para que todos los valores sean incluidos en los intervalos\n",
    "intervalos = np.linspace(Min, Max, num=21)#minimo, maximo, numero de clases + 1 (las calses son los intervalos)\n",
    "intervalos"
   ]
  },
  {
   "cell_type": "code",
   "execution_count": null,
   "metadata": {},
   "outputs": [],
   "source": [
    "# Crear categorías (ajusta las etiquetas según intervalos)\n",
    "categorias = [f\"{intervalos[i]:.0f} - {intervalos[i+1]:.0f}\" \n",
    "    for i in range(len(intervalos)-1)] #-1 para ajustar índices\n",
    "categorias"
   ]
  },
  {
   "cell_type": "code",
   "execution_count": null,
   "metadata": {},
   "outputs": [],
   "source": [
    "#Finalmente creamos las categorías en la columna numérica\n",
    "#Usamos el include_lowest para evitar que se eliminen datos\n",
    "df_numero_interaccion['número de interacción por lección']=pd.cut(x= df_numero_interaccion['número de interacción por lección'], bins=intervalos, labels= categorias, include_lowest=True )\n",
    "df_numero_interaccion['número de interacción por lección']"
   ]
  },
  {
   "cell_type": "code",
   "execution_count": null,
   "metadata": {},
   "outputs": [],
   "source": [
    "tabla_numero_interaccion = freq_tbl(df_numero_interaccion['número de interacción por lección'])\n",
    "tabla_numero_interaccion"
   ]
  },
  {
   "cell_type": "code",
   "execution_count": null,
   "metadata": {},
   "outputs": [],
   "source": [
    "tabla_numero_interaccion2 = tabla_numero_interaccion.drop(['percentage','cumulative_perc'], axis=1)\n",
    "tabla_numero_interaccion2"
   ]
  },
  {
   "cell_type": "code",
   "execution_count": null,
   "metadata": {},
   "outputs": [],
   "source": [
    "filtro_numero_interaccion = tabla_numero_interaccion2[tabla_numero_interaccion2['frequency']>=1]\n",
    "filtro_numero_interaccion"
   ]
  },
  {
   "cell_type": "code",
   "execution_count": null,
   "metadata": {},
   "outputs": [],
   "source": [
    "Filtro_index_numero_interaccion = filtro_numero_interaccion.set_index('número de interacción por lección')\n",
    "Filtro_index_numero_interaccion"
   ]
  },
  {
   "cell_type": "code",
   "execution_count": null,
   "metadata": {},
   "outputs": [],
   "source": [
    "#Convertir el índice a categoría con orden explícito\n",
    "Filtro_index_numero_interaccion.index = pd.Categorical(\n",
    "    Filtro_index_numero_interaccion.index, #Datos a convertir\n",
    "    categories=categorias, #Definir el orden numérico de los intervalos, es nuestra lista de categorias\n",
    "    ordered=True\n",
    ")\n",
    "\n",
    "#Ordenar el DataFrame según el índice categórico\n",
    "Filtro_index_numero_interaccion = Filtro_index_numero_interaccion.sort_index()\n",
    "\n",
    "#Crear el gráfico\n",
    "Filtro_index_numero_interaccion.plot(kind='area', figsize=(20, 10), alpha=0.6, color='teal')\n",
    "\n",
    "#Asegurar de que todas las categorías aparezcan en el eje X\n",
    "plt.xticks(\n",
    "    ticks=range(len(Filtro_index_numero_interaccion.index)), #Posiciones\n",
    "    labels=Filtro_index_numero_interaccion.index, #Etiquetas\n",
    "    rotation=45, #Rotación para legibilidad\n",
    ")\n",
    "\n",
    "plt.title('Distribución del número de interacciones por lección')\n",
    "plt.xlabel('Intervalos de Número de Interacciones')\n",
    "plt.ylabel('Frecuencia')\n",
    "plt.tight_layout()\n",
    "plt.show()"
   ]
  },
  {
   "cell_type": "code",
   "execution_count": null,
   "metadata": {},
   "outputs": [],
   "source": [
    "#Agrupamos las filas deseadas en una sola fila llamada 'Otros'\n",
    "otros_numero_interaccion = tabla_numero_interaccion2[tabla_numero_interaccion2['número de interacción por lección'].isin(['230 - 243', '218 - 230', '192 - 205', '180 - 192', '167 - 180', '141 - 154', '128 - 141', '116 - 128', '90 - 103', '78 - 90', '65 - 78', '243 - 256', '154 - 167', '103 - 116', '205 - 218', '52 - 65', '39 - 52'])]['frequency'].sum()\n",
    "\n",
    "#Filtramos las filas que no son las que irán en otros\n",
    "tabla_numero_interaccion2 = tabla_numero_interaccion2[~tabla_numero_interaccion2['número de interacción por lección'].isin(['230 - 243', '218 - 230', '192 - 205', '180 - 192', '167 - 180', '141 - 154', '128 - 141', '116 - 128', '90 - 103', '78 - 90', '65 - 78', '243 - 256', '154 - 167', '103 - 116', '205 - 218', '52 - 65', '39 - 52'])]\n",
    "\n",
    "#Añadimos la nueva fila 'Otros'\n",
    "tabla_numero_interaccion2 = pd.concat([tabla_numero_interaccion2, pd.DataFrame({'número de interacción por lección': ['Otros'], 'frequency': [otros_numero_interaccion]})], ignore_index=True)\n",
    "\n",
    "tabla_numero_interaccion2"
   ]
  },
  {
   "cell_type": "code",
   "execution_count": null,
   "metadata": {},
   "outputs": [],
   "source": [
    "filtro_numero_interaccion = tabla_numero_interaccion2[tabla_numero_interaccion2['frequency']>=1]\n",
    "filtro_numero_interaccion"
   ]
  },
  {
   "cell_type": "code",
   "execution_count": null,
   "metadata": {},
   "outputs": [],
   "source": [
    "Filtro_index_numero_interaccion = filtro_numero_interaccion.set_index('número de interacción por lección')\n",
    "Filtro_index_numero_interaccion"
   ]
  },
  {
   "cell_type": "code",
   "execution_count": null,
   "metadata": {},
   "outputs": [],
   "source": [
    "#Realizamos grafico de pie del dataframe filtrado\n",
    "Filtro_index_numero_interaccion[\"frequency\"].plot(kind='pie', figsize=(15,6), shadow=True, autopct=\"%0.1f %%\")\n",
    "plt.title('Número de interacciones por lección')\n",
    "plt.ylabel('Frecuencia')\n",
    "plt.show()"
   ]
  },
  {
   "cell_type": "code",
   "execution_count": null,
   "metadata": {},
   "outputs": [],
   "source": [
    "#Filtramos las filas donde ninguna columna tenga el valor 999 ya que son nuestros valores nulos\n",
    "df_tiempo_leccion = df[df['tiempo de lección'] != 999]\n",
    "\n",
    "#Calculamos el numero total de la población \"n\"\n",
    "df_tiempo_leccion['tiempo de lección'].info()\n",
    "n=len(df_tiempo_leccion) #número de entradas"
   ]
  },
  {
   "cell_type": "code",
   "execution_count": null,
   "metadata": {},
   "outputs": [],
   "source": [
    "#Obtenemos el limite superior y el límite inferior de la columna objetivo\n",
    "Max=df_tiempo_leccion['tiempo de lección'].max()\n",
    "Min=df_tiempo_interaccion['tiempo de lección'].min()\n",
    "Limites= [Min, Max]\n",
    "Limites"
   ]
  },
  {
   "cell_type": "code",
   "execution_count": null,
   "metadata": {},
   "outputs": [],
   "source": [
    "#Calculamos el rango R\n",
    "R=Max-Min\n",
    "R"
   ]
  },
  {
   "cell_type": "code",
   "execution_count": null,
   "metadata": {},
   "outputs": [],
   "source": [
    "#Calculamos el número de Intervalos de Clase \"ni\", aplicando la regla de Sturges\n",
    "ni= 1+3.32*np.log10(n)\n",
    "ni"
   ]
  },
  {
   "cell_type": "code",
   "execution_count": null,
   "metadata": {},
   "outputs": [],
   "source": [
    "#Calculamos el Ancho del Intervalo \"i\"\n",
    "i=R/ni\n",
    "i"
   ]
  },
  {
   "cell_type": "code",
   "execution_count": null,
   "metadata": {},
   "outputs": [],
   "source": [
    "#Categorización de variables\n",
    "#Declaramos 2 intervalos (menores de 100) y (mayores de 100)\n",
    "#Ajustamos los limites para que todos los valores sean incluidos en los intervalos\n",
    "intervalos = np.linspace(Min, Max, num=37)#minimo, maximo, numero de clases + 1 (las calses son los intervalos)\n",
    "intervalos"
   ]
  },
  {
   "cell_type": "code",
   "execution_count": null,
   "metadata": {},
   "outputs": [],
   "source": [
    "# Crear categorías (ajusta las etiquetas según intervalos)\n",
    "categorias = [f\"{intervalos[i]:.0f} - {intervalos[i+1]:.0f}\" \n",
    "    for i in range(len(intervalos)-1)] #-1 para ajustar índices\n",
    "categorias"
   ]
  },
  {
   "cell_type": "code",
   "execution_count": null,
   "metadata": {},
   "outputs": [],
   "source": [
    "#Finalmente creamos las categorías en la columna numérica\n",
    "#Usamos el include_lowest para evitar que se eliminen datos\n",
    "df_tiempo_leccion['tiempo de lección']=pd.cut(x= df_tiempo_leccion['tiempo de lección'], bins=intervalos, labels= categorias, include_lowest=True )\n",
    "df_tiempo_leccion['tiempo de lección']"
   ]
  },
  {
   "cell_type": "code",
   "execution_count": null,
   "metadata": {},
   "outputs": [],
   "source": [
    "tabla_tiempo_leccion = freq_tbl(df_tiempo_leccion['tiempo de lección'])\n",
    "tabla_tiempo_leccion"
   ]
  },
  {
   "cell_type": "code",
   "execution_count": null,
   "metadata": {},
   "outputs": [],
   "source": [
    "tabla_tiempo_leccion2 = tabla_tiempo_leccion.drop(['percentage','cumulative_perc'], axis=1)\n",
    "tabla_tiempo_leccion2"
   ]
  },
  {
   "cell_type": "code",
   "execution_count": null,
   "metadata": {},
   "outputs": [],
   "source": [
    "filtro_tiempo_leccion = tabla_tiempo_leccion2[tabla_tiempo_leccion2['frequency']>=1]\n",
    "filtro_tiempo_leccion"
   ]
  },
  {
   "cell_type": "code",
   "execution_count": null,
   "metadata": {},
   "outputs": [],
   "source": [
    "Filtro_index_tiempo_leccion = filtro_tiempo_leccion.set_index('tiempo de lección')\n",
    "Filtro_index_tiempo_leccion"
   ]
  },
  {
   "cell_type": "code",
   "execution_count": null,
   "metadata": {},
   "outputs": [],
   "source": [
    "#Convertir el índice a categoría con orden explícito\n",
    "Filtro_index_tiempo_leccion.index = pd.Categorical(\n",
    "    Filtro_index_tiempo_leccion.index, #Datos a convertir\n",
    "    categories=categorias, #Definir el orden numérico de los intervalos, es nuestra lista de categorias\n",
    "    ordered=True\n",
    ")\n",
    "\n",
    "#Ordenar el DataFrame según el índice categórico\n",
    "Filtro_index_tiempo_leccion = Filtro_index_tiempo_leccion.sort_index()\n",
    "\n",
    "#Crear el gráfico\n",
    "Filtro_index_tiempo_leccion.plot(kind='area', figsize=(20, 10), alpha=0.6, color='teal')\n",
    "\n",
    "#Asegurar de que todas las categorías aparezcan en el eje X\n",
    "plt.xticks(\n",
    "    ticks=range(len(Filtro_index_tiempo_leccion.index)), #Posiciones\n",
    "    labels=Filtro_index_tiempo_leccion.index, #Etiquetas\n",
    "    rotation=45, #Rotación para legibilidad\n",
    ")\n",
    "\n",
    "plt.title('Distribución del tiempo por lección')\n",
    "plt.xlabel('Intervalos de tiempo en segundos')\n",
    "plt.ylabel('Frecuencia')\n",
    "plt.tight_layout()\n",
    "plt.show()"
   ]
  },
  {
   "cell_type": "code",
   "execution_count": null,
   "metadata": {},
   "outputs": [],
   "source": [
    "#Agrupamos las filas deseadas en una sola fila llamada 'Otros'\n",
    "otros_tiempo_leccion = tabla_tiempo_leccion2[tabla_tiempo_leccion2['tiempo de lección'].isin(['760 - 781', '304 - 326', '260 - 282', '239 - 260', '217 - 239', '195 - 217', '217 - 239', '195 - 217', '174 - 195', '152 - 174', '130 - 152', '109 - 130'])]['frequency'].sum()\n",
    "\n",
    "#Filtramos las filas que no son las que irán en otros\n",
    "tabla_tiempo_leccion2 = tabla_tiempo_leccion2[~tabla_tiempo_leccion2['tiempo de lección'].isin(['760 - 781', '304 - 326', '260 - 282', '239 - 260', '217 - 239', '195 - 217', '217 - 239', '195 - 217', '174 - 195', '152 - 174', '130 - 152', '109 - 130'])]\n",
    "\n",
    "#Añadimos la nueva fila 'Otros'\n",
    "tabla_tiempo_leccion2 = pd.concat([tabla_tiempo_leccion2, pd.DataFrame({'tiempo de lección': ['Otros'], 'frequency': [otros_tiempo_leccion]})], ignore_index=True)\n",
    "\n",
    "tabla_tiempo_leccion2"
   ]
  },
  {
   "cell_type": "code",
   "execution_count": null,
   "metadata": {},
   "outputs": [],
   "source": [
    "filtro_tiempo_leccion = tabla_tiempo_leccion2[tabla_tiempo_leccion2['frequency']>=1]\n",
    "filtro_tiempo_leccion"
   ]
  },
  {
   "cell_type": "code",
   "execution_count": null,
   "metadata": {},
   "outputs": [],
   "source": [
    "Filtro_index_tiempo_leccion = filtro_tiempo_leccion.set_index('tiempo de lección')\n",
    "Filtro_index_tiempo_leccion"
   ]
  },
  {
   "cell_type": "code",
   "execution_count": null,
   "metadata": {},
   "outputs": [],
   "source": [
    "#Realizamos grafico de pie del dataframe filtrado\n",
    "Filtro_index_tiempo_leccion[\"frequency\"].plot(kind='pie', figsize=(15,10), shadow=True, autopct=\"%0.1f %%\")\n",
    "plt.title('Tiempo por lección en segundos')\n",
    "plt.ylabel('Frecuencia')\n",
    "plt.show()"
   ]
  },
  {
   "cell_type": "code",
   "execution_count": null,
   "metadata": {},
   "outputs": [],
   "source": [
    "#Filtramos las filas donde ninguna columna tenga el valor 9999 ya que son nuestros valores nulos\n",
    "df_tiempo_sesion = df[df['tiempo de sesión'] != 9999]\n",
    "\n",
    "#Calculamos el numero total de la población \"n\"\n",
    "df_tiempo_sesion['tiempo de sesión'].info()\n",
    "n=len(df_tiempo_sesion) #número de entradas"
   ]
  },
  {
   "cell_type": "code",
   "execution_count": null,
   "metadata": {},
   "outputs": [],
   "source": [
    "#Obtenemos el limite superior y el límite inferior de la columna objetivo\n",
    "Max=df_tiempo_sesion['tiempo de sesión'].max()\n",
    "Min=df_tiempo_sesion['tiempo de sesión'].min()\n",
    "Limites= [Min, Max]\n",
    "Limites"
   ]
  },
  {
   "cell_type": "code",
   "execution_count": null,
   "metadata": {},
   "outputs": [],
   "source": [
    "#Calculamos el rango R\n",
    "R=Max-Min\n",
    "R"
   ]
  },
  {
   "cell_type": "code",
   "execution_count": null,
   "metadata": {},
   "outputs": [],
   "source": [
    "#Calculamos el número de Intervalos de Clase \"ni\", aplicando la regla de Sturges\n",
    "ni= 1+3.32*np.log10(n)\n",
    "ni"
   ]
  },
  {
   "cell_type": "code",
   "execution_count": null,
   "metadata": {},
   "outputs": [],
   "source": [
    "#Calculamos el Ancho del Intervalo \"i\"\n",
    "i=R/ni\n",
    "i"
   ]
  },
  {
   "cell_type": "code",
   "execution_count": null,
   "metadata": {},
   "outputs": [],
   "source": [
    "#Categorización de variables\n",
    "#Declaramos 2 intervalos (menores de 100) y (mayores de 100)\n",
    "#Ajustamos los limites para que todos los valores sean incluidos en los intervalos\n",
    "intervalos = np.linspace(Min, Max, num=41)#minimo, maximo, numero de clases + 1 (las calses son los intervalos)\n",
    "intervalos"
   ]
  },
  {
   "cell_type": "code",
   "execution_count": null,
   "metadata": {},
   "outputs": [],
   "source": [
    "# Crear categorías (ajusta las etiquetas según intervalos)\n",
    "categorias = [f\"{intervalos[i]:.0f} - {intervalos[i+1]:.0f}\" \n",
    "    for i in range(len(intervalos)-1)] #-1 para ajustar índices\n",
    "categorias"
   ]
  },
  {
   "cell_type": "code",
   "execution_count": null,
   "metadata": {},
   "outputs": [],
   "source": [
    "#Finalmente creamos las categorías en la columna numérica\n",
    "#Usamos el include_lowest para evitar que se eliminen datos\n",
    "df_tiempo_sesion['tiempo de sesión']=pd.cut(x= df_tiempo_sesion['tiempo de sesión'], bins=intervalos, labels= categorias, include_lowest=True )\n",
    "df_tiempo_sesion['tiempo de sesión']"
   ]
  },
  {
   "cell_type": "code",
   "execution_count": null,
   "metadata": {},
   "outputs": [],
   "source": [
    "tabla_tiempo_sesion = freq_tbl(df_tiempo_sesion['tiempo de sesión'])\n",
    "tabla_tiempo_sesion"
   ]
  },
  {
   "cell_type": "code",
   "execution_count": null,
   "metadata": {},
   "outputs": [],
   "source": [
    "tabla_tiempo_sesion2 = tabla_tiempo_sesion.drop(['percentage','cumulative_perc'], axis=1)\n",
    "tabla_tiempo_sesion2"
   ]
  },
  {
   "cell_type": "code",
   "execution_count": null,
   "metadata": {},
   "outputs": [],
   "source": [
    "filtro_tiempo_sesion = tabla_tiempo_sesion2[tabla_tiempo_sesion2['frequency']>=1]\n",
    "filtro_tiempo_sesion"
   ]
  },
  {
   "cell_type": "code",
   "execution_count": null,
   "metadata": {},
   "outputs": [],
   "source": [
    "Filtro_index_tiempo_sesion = filtro_tiempo_sesion.set_index('tiempo de sesión')\n",
    "Filtro_index_tiempo_sesion"
   ]
  },
  {
   "cell_type": "code",
   "execution_count": null,
   "metadata": {},
   "outputs": [],
   "source": [
    "#Convertir el índice a categoría con orden explícito\n",
    "Filtro_index_tiempo_sesion.index = pd.Categorical(\n",
    "    Filtro_index_tiempo_sesion.index, #Datos a convertir\n",
    "    categories=categorias, #Definir el orden numérico de los intervalos, es nuestra lista de categorias\n",
    "    ordered=True\n",
    ")\n",
    "\n",
    "#Ordenar el DataFrame según el índice categórico\n",
    "Filtro_index_tiempo_sesion = Filtro_index_tiempo_sesion.sort_index()\n",
    "\n",
    "#Crear el gráfico\n",
    "Filtro_index_tiempo_sesion.plot(kind='area', figsize=(20, 10), alpha=0.6, color='teal')\n",
    "\n",
    "#Asegurar de que todas las categorías aparezcan en el eje X\n",
    "plt.xticks(\n",
    "    ticks=range(len(Filtro_index_tiempo_sesion.index)), #Posiciones\n",
    "    labels=Filtro_index_tiempo_sesion.index, #Etiquetas\n",
    "    rotation=45, #Rotación para legibilidad\n",
    ")\n",
    "\n",
    "plt.title('Distribución del tiempo por sesión')\n",
    "plt.xlabel('Intervalos de tiempo en segundos')\n",
    "plt.ylabel('Frecuencia')\n",
    "plt.tight_layout()\n",
    "plt.show()"
   ]
  },
  {
   "cell_type": "code",
   "execution_count": null,
   "metadata": {},
   "outputs": [],
   "source": [
    "#Agrupamos las filas deseadas en una sola fila llamada 'Otros'\n",
    "otros_tiempo_sesion = tabla_tiempo_sesion2[tabla_tiempo_sesion2['tiempo de sesión'].isin(['2091 - 2144', '751 - 804', '911 - 965', '965 - 1019', '1019 - 1072', '1126 - 1179', '483 - 536', '1448 - 1501', '1555 - 1608', '1662 - 1716', '1769 - 1823', '1930 - 1984', '1984 - 2037', '1233 - 1287', '1394 - 1448', '858 - 911', '804 - 858', '1340 - 1394', '536 - 590', '1179 - 1233', '697 - 751', '1287 - 1340', '375 - 429', '1072 - 1126', '429 - 483', '322 - 375', '161 - 214', '268 - 322', '214 - 268', '107 - 161'])]['frequency'].sum()\n",
    "\n",
    "#Filtramos las filas que no son las que irán en otros\n",
    "tabla_tiempo_sesion2 = tabla_tiempo_sesion2[~tabla_tiempo_sesion2['tiempo de sesión'].isin(['2091 - 2144', '751 - 804', '911 - 965', '965 - 1019', '1019 - 1072', '1126 - 1179', '483 - 536', '1448 - 1501', '1555 - 1608', '1662 - 1716', '1769 - 1823', '1930 - 1984', '1984 - 2037', '1233 - 1287', '1394 - 1448', '858 - 911', '804 - 858', '1340 - 1394', '536 - 590', '1179 - 1233', '697 - 751', '1287 - 1340', '375 - 429', '1072 - 1126', '429 - 483', '322 - 375', '161 - 214', '268 - 322', '214 - 268', '107 - 161'])]\n",
    "\n",
    "#Añadimos la nueva fila 'Otros'\n",
    "tabla_tiempo_sesion2 = pd.concat([tabla_tiempo_sesion2, pd.DataFrame({'tiempo de sesión': ['Otros'], 'frequency': [otros_tiempo_sesion]})], ignore_index=True)\n",
    "\n",
    "tabla_tiempo_sesion2"
   ]
  },
  {
   "cell_type": "code",
   "execution_count": null,
   "metadata": {},
   "outputs": [],
   "source": [
    "filtro_tiempo_sesion = tabla_tiempo_sesion2[tabla_tiempo_sesion2['frequency']>=1]\n",
    "filtro_tiempo_sesion"
   ]
  },
  {
   "cell_type": "code",
   "execution_count": null,
   "metadata": {},
   "outputs": [],
   "source": [
    "Filtro_index_tiempo_sesion = filtro_tiempo_sesion.set_index('tiempo de sesión')\n",
    "Filtro_index_tiempo_sesion"
   ]
  },
  {
   "cell_type": "code",
   "execution_count": null,
   "metadata": {},
   "outputs": [],
   "source": [
    "#Realizamos grafico de pie del dataframe filtrado\n",
    "Filtro_index_tiempo_sesion[\"frequency\"].plot(kind='pie', figsize=(20,10), shadow=True, autopct=\"%0.1f %%\")\n",
    "plt.title('Tiempo por sesión en segundos')\n",
    "plt.ylabel('Frecuencia')\n",
    "plt.show()"
   ]
  },
  {
   "cell_type": "code",
   "execution_count": null,
   "metadata": {},
   "outputs": [],
   "source": []
  }
 ],
 "metadata": {
  "kernelspec": {
   "display_name": "Python 3",
   "language": "python",
   "name": "python3"
  },
  "language_info": {
   "codemirror_mode": {
    "name": "ipython",
    "version": 3
   },
   "file_extension": ".py",
   "mimetype": "text/x-python",
   "name": "python",
   "nbconvert_exporter": "python",
   "pygments_lexer": "ipython3",
   "version": "3.13.2"
  }
 },
 "nbformat": 4,
 "nbformat_minor": 2
}
